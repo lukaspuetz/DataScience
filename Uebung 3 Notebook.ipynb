{
 "cells": [
  {
   "cell_type": "markdown",
   "source": [
    "# Übung 3:\n",
    "# Rechnungen, Data Types, Logische Operatoren\n",
    "\n",
    "### Arten von Bias\n",
    "- **Historischer-Bias:** Inputdaten enthalten bereits explizite oder implizite menschliche Vorurteile und Stereotypen\n",
    "- **Repräsentations-Bias:** Bestimmte Gruppen oder Charakteristiken sind unterrepräsentiert\n",
    "- **Technischer Bias:** Zugang zur Technologie (Hardware, Software) oder technische Probleme bei der Übertragung von qualitativen Merkmalen in quantitative, maschinenlesbare Informationen\n",
    "- **Entstehender (engl. \"emergent\") Bias:** Gesellschaftliche Veränderungen bleiben vom Algorithmus unberücksichtigt\n"
   ],
   "metadata": {
    "collapsed": false
   }
  },
  {
   "cell_type": "markdown",
   "source": [
    "## Arithmetische Operatoren\n",
    "\n",
    "Leerzeichen innerhalb mathematischer Ausdrücke sind irrelevant\n",
    "Es macht keinen Unterschied, ob \"2*2\" oder \"2 * 2\" geschrieben wird\n"
   ],
   "metadata": {
    "collapsed": false
   }
  },
  {
   "cell_type": "code",
   "execution_count": null,
   "outputs": [],
   "source": [
    "# Addition/plus\n",
    "a= 10 + 2\n",
    "print(a)"
   ],
   "metadata": {
    "collapsed": false
   }
  },
  {
   "cell_type": "code",
   "execution_count": null,
   "outputs": [],
   "source": [
    "# Subtraktion/minus\n",
    "b= 10 - 2\n",
    "print(b)"
   ],
   "metadata": {
    "collapsed": false
   }
  },
  {
   "cell_type": "code",
   "execution_count": null,
   "outputs": [],
   "source": [
    "# Multiplikation/mal\n",
    "c= 10 * 2\n",
    "print(c)"
   ],
   "metadata": {
    "collapsed": false
   }
  },
  {
   "cell_type": "code",
   "execution_count": null,
   "outputs": [],
   "source": [
    "# Division/geteilt durch\n",
    "d= 10 / 2\n",
    "print(d)"
   ],
   "metadata": {
    "collapsed": false
   }
  },
  {
   "cell_type": "code",
   "execution_count": null,
   "outputs": [],
   "source": [
    "# Ganzzahlige Division ohne Rest\n",
    "e= 13 // 4\n",
    "print(e)"
   ],
   "metadata": {
    "collapsed": false
   }
  },
  {
   "cell_type": "code",
   "source": [
    "# Gibt an, wie viel Rest bei Division überbleibt\n",
    "f= 13 % 4\n",
    "print(f)"
   ],
   "metadata": {
    "collapsed": false,
    "ExecuteTime": {
     "end_time": "2024-10-29T12:55:18.385252Z",
     "start_time": "2024-10-29T12:55:18.371872Z"
    }
   },
   "outputs": [
    {
     "name": "stdout",
     "output_type": "stream",
     "text": [
      "1\n"
     ]
    }
   ],
   "execution_count": 1
  },
  {
   "cell_type": "code",
   "source": [
    "# Exponenten/exponieren\n",
    "g= 2 ** 4         # 2^4\n",
    "print(g)"
   ],
   "metadata": {
    "collapsed": false,
    "ExecuteTime": {
     "end_time": "2024-10-29T12:55:29.739199Z",
     "start_time": "2024-10-29T12:55:29.719343Z"
    }
   },
   "outputs": [
    {
     "name": "stdout",
     "output_type": "stream",
     "text": [
      "16\n"
     ]
    }
   ],
   "execution_count": 2
  },
  {
   "cell_type": "markdown",
   "source": [
    "## Häufig verwendete Data Types:\n",
    "\n",
    "1. numerisch\n",
    "- int = ganze Zahlen (5, -3, 40)\n",
    "- float = Kommazahlen (0.11, -7.6)\n",
    "\n",
    "2. Sequenzen\n",
    "- str = Zeichenketten (Character Strings) (\"hello\", \"Alex\")\n",
    "- list = Listen [1,2,3] (werden später genauer erklärt)\n",
    "- tuple = unveränderliche Listen (1,2,3)\n",
    "\n",
    "3. Dictionary\n",
    "- dict = Wörterbücher [\"name\": \"Alex\", \"age\": 30]\n",
    "\n",
    "4. Boolesche Werte\n",
    "- bool = Wahrheitswerte (\"True\" oder \"False\")"
   ],
   "metadata": {
    "collapsed": false
   }
  },
  {
   "cell_type": "markdown",
   "source": [
    "## Data Types in Anwendung"
   ],
   "metadata": {
    "collapsed": false
   }
  },
  {
   "cell_type": "code",
   "source": [
    "# Zeichenkette/Character String\n",
    "a= \"abc\"\n",
    "print(type(a))"
   ],
   "metadata": {
    "collapsed": false,
    "ExecuteTime": {
     "end_time": "2024-10-29T12:55:47.406846Z",
     "start_time": "2024-10-29T12:55:47.398066Z"
    }
   },
   "outputs": [
    {
     "name": "stdout",
     "output_type": "stream",
     "text": [
      "<class 'str'>\n"
     ]
    }
   ],
   "execution_count": 3
  },
  {
   "cell_type": "code",
   "source": [
    "# Integer/Ganzzahl\n",
    "a= 2\n",
    "print(type(a))"
   ],
   "metadata": {
    "collapsed": false,
    "ExecuteTime": {
     "end_time": "2024-10-29T12:55:52.378629Z",
     "start_time": "2024-10-29T12:55:52.367759Z"
    }
   },
   "outputs": [
    {
     "name": "stdout",
     "output_type": "stream",
     "text": [
      "<class 'int'>\n"
     ]
    }
   ],
   "execution_count": 4
  },
  {
   "cell_type": "code",
   "source": [
    "# Floating Point Number/Kommazahl\n",
    "a= 0.5\n",
    "print(type(a))"
   ],
   "metadata": {
    "collapsed": false,
    "ExecuteTime": {
     "end_time": "2024-10-29T12:55:56.394595Z",
     "start_time": "2024-10-29T12:55:56.378711Z"
    }
   },
   "outputs": [
    {
     "name": "stdout",
     "output_type": "stream",
     "text": [
      "<class 'float'>\n"
     ]
    }
   ],
   "execution_count": 5
  },
  {
   "cell_type": "markdown",
   "source": [
    "## Verarbeitung von User-Input\n",
    "\n",
    "&rarr; Informationen (auch im Form von Zahlen), die von der **input()**-Funktion vom User stammen, werden von Python als Zeichenketten, also **Character Strings**, aufgenommen\n",
    "\n",
    "&rarr; Sollen Zahlen, als solche, weiterverarbeitet werden, muss für Python klargestellt werden, dass es sich um Ganzzahlen (int) oder Kommazahlen (float) handelt\n",
    "\n",
    "&rarr; Nach der Verarbeitung durch int() oder float(), kann der User-Input durch alle Operatoren weiterverarbeitet werden (+ , - , == , >= ...)"
   ],
   "metadata": {
    "collapsed": false
   }
  },
  {
   "cell_type": "code",
   "source": [
    "# Umwandlung und Nutzung von Userinput\n",
    "# Ganzzahlen: LANGE Variante\n",
    "\n",
    "Alter1= input(\"Gib dein Alter in vollen Jahren an:  \")\n",
    "\n",
    "Alter1= int(Alter1)\n",
    "\n",
    "Alter1= Alter1 - 3\n",
    "\n",
    "print(\"Vor 3 Jahren, warst du\", Alter1, \"Jahre alt.\")"
   ],
   "metadata": {
    "collapsed": false,
    "ExecuteTime": {
     "end_time": "2024-10-29T12:56:10.361678Z",
     "start_time": "2024-10-29T12:56:05.023304Z"
    }
   },
   "outputs": [
    {
     "name": "stdout",
     "output_type": "stream",
     "text": [
      "Vor 3 Jahren, warst du 18 Jahre alt.\n"
     ]
    }
   ],
   "execution_count": 6
  },
  {
   "cell_type": "code",
   "execution_count": null,
   "outputs": [],
   "source": [
    "# Umwandlung und Nutzung von Userinput\n",
    "# Ganzzahlen: KURZE Variante\n",
    "\n",
    "# int() kann direkt in den Code eingebaut werden, um einen Schritt zu sparen\n",
    "# int() wird vor die input() Funktion gesetzt\n",
    "\n",
    "Alter2= int(input(\"Gib dein Alter in vollen Jahren an: \"))\n",
    "\n",
    "Alter2= Alter2 - 2\n",
    "\n",
    "print(\"Vor 2 Jahren warst du\", Alter2, \"Jahre alt.\")"
   ],
   "metadata": {
    "collapsed": false
   }
  },
  {
   "cell_type": "code",
   "source": [
    "# Kommazahlen: LANGE Variante\n",
    "# Achtung, wir nutzen . als Trennzeichen\n",
    "\n",
    "height1= input(\"Gib deine Größe in m an: \")\n",
    "\n",
    "height1= float(height1)\n",
    "\n",
    "height1= height1 - 0.30\n",
    "\n",
    "print(\"Wärst du um 30 cm kleiner, so wärst du\",height1, \"m groß\")"
   ],
   "metadata": {
    "collapsed": false,
    "ExecuteTime": {
     "end_time": "2024-10-29T12:59:56.362353Z",
     "start_time": "2024-10-29T12:59:48.807368Z"
    }
   },
   "outputs": [
    {
     "name": "stdout",
     "output_type": "stream",
     "text": [
      "Wärst du um 30 cm kleiner, so wärst du 1.65 m groß\n"
     ]
    }
   ],
   "execution_count": 7
  },
  {
   "cell_type": "code",
   "execution_count": null,
   "outputs": [],
   "source": [
    "# Kommazahlen: KURZE Variante\n",
    "\n",
    "height2= float(input(\"Gib deine Größe in m an: \"))\n",
    "\n",
    "height2= height2 + 0.20\n",
    "\n",
    "print(\"Wärst du um 20 cm größer, so wärst du\", height2, \"m groß\")"
   ],
   "metadata": {
    "collapsed": false
   }
  },
  {
   "cell_type": "markdown",
   "source": [
    "### Listen werden später in der Übung thematisiert"
   ],
   "metadata": {
    "collapsed": false
   }
  },
  {
   "cell_type": "markdown",
   "source": [
    "## Logische Operatoren und Vergleichsoperatoren\n",
    "\n",
    "**Rückblick**:\n",
    "\n",
    "Boolesche Werte können nur 2 Formen annehmen:\n",
    "&rarr; True\n",
    "&rarr; False"
   ],
   "metadata": {
    "collapsed": false
   }
  },
  {
   "cell_type": "markdown",
   "source": [
    "## Vergleichsoperatoren"
   ],
   "metadata": {
    "collapsed": false
   }
  },
  {
   "cell_type": "code",
   "source": [
    "# Größer/kleiner\n",
    "print(2 > 2)\n",
    "print(2 < 3)"
   ],
   "metadata": {
    "collapsed": false,
    "ExecuteTime": {
     "end_time": "2024-10-29T13:00:31.764371Z",
     "start_time": "2024-10-29T13:00:31.757277Z"
    }
   },
   "outputs": [
    {
     "name": "stdout",
     "output_type": "stream",
     "text": [
      "False\n",
      "True\n"
     ]
    }
   ],
   "execution_count": 10
  },
  {
   "cell_type": "code",
   "source": [
    "# Größer/kleiner gleich\n",
    "print(2 <= 2)\n",
    "print(14 >= 10)"
   ],
   "metadata": {
    "collapsed": false,
    "ExecuteTime": {
     "end_time": "2024-10-29T13:00:20.658806Z",
     "start_time": "2024-10-29T13:00:20.649477Z"
    }
   },
   "outputs": [
    {
     "name": "stdout",
     "output_type": "stream",
     "text": [
      "True\n",
      "True\n"
     ]
    }
   ],
   "execution_count": 8
  },
  {
   "cell_type": "code",
   "source": [
    "# Gleichheit überprüfen\n",
    "print(2 == 2)\n",
    "print(433 == 344)"
   ],
   "metadata": {
    "collapsed": false,
    "ExecuteTime": {
     "end_time": "2024-10-29T13:00:23.486199Z",
     "start_time": "2024-10-29T13:00:23.477658Z"
    }
   },
   "outputs": [
    {
     "name": "stdout",
     "output_type": "stream",
     "text": [
      "True\n",
      "False\n"
     ]
    }
   ],
   "execution_count": 9
  },
  {
   "cell_type": "code",
   "source": [
    "# Ungleichheit überprüfen\n",
    "print(2 != 2)\n",
    "print(2 ** 2 != 5)"
   ],
   "metadata": {
    "collapsed": false,
    "ExecuteTime": {
     "end_time": "2024-10-29T13:00:36.047930Z",
     "start_time": "2024-10-29T13:00:36.028415Z"
    }
   },
   "outputs": [
    {
     "name": "stdout",
     "output_type": "stream",
     "text": [
      "False\n",
      "True\n"
     ]
    }
   ],
   "execution_count": 11
  },
  {
   "cell_type": "code",
   "source": [
    "# Mathematische Ausdrücke lassen sich in Überprüfungen einbinden\n",
    "a= 2**2==3+1\n",
    "print(a)\n",
    "print(type(a))"
   ],
   "metadata": {
    "collapsed": false,
    "ExecuteTime": {
     "end_time": "2024-10-29T13:00:46.154600Z",
     "start_time": "2024-10-29T13:00:46.135707Z"
    }
   },
   "outputs": [
    {
     "name": "stdout",
     "output_type": "stream",
     "text": [
      "True\n",
      "<class 'bool'>\n"
     ]
    }
   ],
   "execution_count": 12
  },
  {
   "cell_type": "code",
   "source": [
    "# Alle logischen Operatoren kann man auch mit Variablen verwenden\n",
    "a= 2*2\n",
    "b= 4\n",
    "print(a<b)"
   ],
   "metadata": {
    "collapsed": false,
    "ExecuteTime": {
     "end_time": "2024-10-29T13:01:00.048298Z",
     "start_time": "2024-10-29T13:01:00.028583Z"
    }
   },
   "outputs": [
    {
     "name": "stdout",
     "output_type": "stream",
     "text": [
      "False\n"
     ]
    }
   ],
   "execution_count": 13
  },
  {
   "cell_type": "markdown",
   "source": [
    "## Logische Verknüpfungen in Python"
   ],
   "metadata": {
    "collapsed": false
   }
  },
  {
   "cell_type": "code",
   "source": [
    "# And = BEIDE Bedingungen müssen zutreffen\n",
    "print(5>2 and 5>3)\n",
    "print(5==5 and 5<6 and 0==0 and 3==3)"
   ],
   "metadata": {
    "collapsed": false,
    "ExecuteTime": {
     "end_time": "2024-10-29T13:01:04.222199Z",
     "start_time": "2024-10-29T13:01:04.206367Z"
    }
   },
   "outputs": [
    {
     "name": "stdout",
     "output_type": "stream",
     "text": [
      "True\n",
      "True\n"
     ]
    }
   ],
   "execution_count": 14
  },
  {
   "cell_type": "code",
   "source": [
    "# Or = NUR EINE der Bedingungen muss zutreffen\n",
    "print((2**2==4 or 1==8 or 1==2 or 2!=3) and 2==3)"
   ],
   "metadata": {
    "collapsed": false,
    "ExecuteTime": {
     "end_time": "2024-10-29T13:01:08.895583Z",
     "start_time": "2024-10-29T13:01:08.890223Z"
    }
   },
   "outputs": [
    {
     "name": "stdout",
     "output_type": "stream",
     "text": [
      "False\n"
     ]
    }
   ],
   "execution_count": 15
  },
  {
   "cell_type": "code",
   "source": [
    "# Not = Bedingung muss NICHT zutreffen\n",
    "print(not 1>1)"
   ],
   "metadata": {
    "collapsed": false,
    "ExecuteTime": {
     "end_time": "2024-10-29T13:01:10.963555Z",
     "start_time": "2024-10-29T13:01:10.950269Z"
    }
   },
   "outputs": [
    {
     "name": "stdout",
     "output_type": "stream",
     "text": [
      "True\n"
     ]
    }
   ],
   "execution_count": 16
  },
  {
   "cell_type": "markdown",
   "source": [
    "## Aufgaben Übung 3:\n",
    "------------------------\n",
    "\n",
    "1. Daten analysieren und dokumentieren (ca. 5-10 Minuten) <br>\n",
    "a) Teilen Sie 183 durch 13 und speichern Sie das Ergebnis in einer Variable mit dem Namen \"output\" ab. <br>\n",
    "b) Geben Sie den Wert und Data-Typ des Ergebnisses \"output\" an.<br>\n",
    "c) Überprüfen Sie, ob der Wert von \"output\" ungleich 0 ist und speichern Sie das Ergebnis in einer Variable mit dem Namen \"test\" ab.<br>\n",
    "d) Geben Sie den Wert und Typ der Variable \"test\" an.<br>\n",
    "e) Überprüfen Sie, ob der Datentyp von \"output\" mit dem Datentypen von \"test\" identisch ist. <br>\n",
    "<br>\n",
    "\n",
    "2. Mathematische Berechnungen und Datentypen (ca. 5-10 Minuten). Bitte geben Sie auch jeweils das Ergebnis der Rechnung aus. <br>\n",
    "a) Was ist das Ergebnis aus 2^8? Speichern Sie das Ergebnis unter der Variable \"a\". <br>\n",
    "b) Was ist das Ergebnis aus 32*8? Speichern Sie das Ergebnis unter der Variable \"b\". <br>\n",
    "c) Ist \"a\" ungleich \"b\"? Speichern Sie das Ergebnis unter \"c\". <br>\n",
    "d) Ist \"a\" größer/gleich \"b\" UND \"b\" geteilt durch 4 gleich 64? Speichern Sie das Ergebnis unter Variable \"d\". <br>\n",
    "e) Speichern Sie unter Variable \"e\" eine Input-Funktion ab, mit der nach der Lieblingsfarbe einer Person fragt? <br>\n",
    "f) Was ist 4/3? Speichern Sie das Ergebnis unter Variable \"f\" ab. <br>\n",
    "g) Geben Sie die Data Types von a-f an! <br>\n",
    "------------------\n",
    "### Aufgaben aus der Präsenzübung\n",
    "**1. Strukturiert/Unstrukturiert?**\n",
    "- Excel Tabelle mit Spalten für Name, Geburtsdatum, Adresse und Telefonnummer (S)\n",
    "- Datenbank mit Informationen zu Produkten (S)\n",
    "- Datenbank mit handgeschriebenen Notizen zu Produkten ohne Kategorie (U)\n",
    "- Buchkatalog mit ISBN, Titeln und Autoren (S)\n",
    "- Google Bewertungen von Kunden (Kommentare) (U)\n",
    "- Google Bewertungen von Kunden (Sterne-Rating) (S)\n",
    "- Jahresbericht von einem Unternehmen (?) >> Vor allem wegen dem Geschäftsbericht, der in Textform verfasst ist\n",
    "\n",
    "**2. Sie sind Führungskraft in einem Einzelhandelsgeschäft. Ihnen wurden die folgenden Dinge von einem Ihrer Mitarbeiter in einem Meeting mitgeteilt: D, I, K oder W? (Data, Information, Knowledge, Wisdom)**\n",
    "- Grundsatz von Einzelhändlern: \"Verstehe die Bedürfnisse deiner Kunden, dann wirst du Erfolg haben\" (W)\n",
    "- Verkaufszahlen für verschiedene Produkte: 300, 425, 650, 921 (D)\n",
    "- Verkaufszahlen für das neue T-Shirt: 823 in dieser Woche (I)\n",
    "- Ergebnisse einer Analyse der Verkaufsdaten des letzten Jahres haben ergeben, dass wenn ein T-Shirt in dem Schaufenster gezeigt wird, die Verkaufszahlen um 15% ansteigen werden (K)\n",
    "- Ein langfristiger Plan, der die Produktion und den Verkauf eines Produkts an die saisonalen Zyklen optimal anpasst. (W)\n",
    "- Ein Bericht, der Einfluss von Werbeausgaben auf die monatlichen Verkäufe aufzeigt (K)"
   ],
   "metadata": {
    "collapsed": false
   }
  },
  {
   "metadata": {
    "ExecuteTime": {
     "end_time": "2024-10-29T13:03:59.324887Z",
     "start_time": "2024-10-29T13:03:59.294100Z"
    }
   },
   "cell_type": "code",
   "source": [
    "output = 183 / 13\n",
    "print(output)\n",
    "print(type(output))\n",
    "test = output != 0\n",
    "print(test)\n",
    "print(type(test))\n",
    "type(test) == type(output)"
   ],
   "outputs": [
    {
     "name": "stdout",
     "output_type": "stream",
     "text": [
      "14.076923076923077\n",
      "<class 'float'>\n",
      "True\n",
      "<class 'bool'>\n"
     ]
    },
    {
     "data": {
      "text/plain": [
       "False"
      ]
     },
     "execution_count": 22,
     "metadata": {},
     "output_type": "execute_result"
    }
   ],
   "execution_count": 22
  },
  {
   "metadata": {
    "ExecuteTime": {
     "end_time": "2024-10-29T13:04:19.375321Z",
     "start_time": "2024-10-29T13:04:19.363748Z"
    }
   },
   "cell_type": "code",
   "source": [
    "a = 2**8\n",
    "print(a)"
   ],
   "outputs": [
    {
     "data": {
      "text/plain": [
       "256"
      ]
     },
     "execution_count": 23,
     "metadata": {},
     "output_type": "execute_result"
    }
   ],
   "execution_count": 23
  },
  {
   "metadata": {
    "ExecuteTime": {
     "end_time": "2024-10-29T13:04:58.510898Z",
     "start_time": "2024-10-29T13:04:58.503164Z"
    }
   },
   "cell_type": "code",
   "source": [
    "b = 32*8\n",
    "print(b)"
   ],
   "outputs": [
    {
     "name": "stdout",
     "output_type": "stream",
     "text": [
      "256\n"
     ]
    }
   ],
   "execution_count": 25
  },
  {
   "metadata": {
    "ExecuteTime": {
     "end_time": "2024-10-29T13:07:05.426410Z",
     "start_time": "2024-10-29T13:07:05.414643Z"
    }
   },
   "cell_type": "code",
   "source": [
    "c = a != b\n",
    "print(c)"
   ],
   "outputs": [
    {
     "name": "stdout",
     "output_type": "stream",
     "text": [
      "True\n"
     ]
    }
   ],
   "execution_count": 31
  },
  {
   "metadata": {
    "ExecuteTime": {
     "end_time": "2024-10-29T13:08:16.899798Z",
     "start_time": "2024-10-29T13:08:16.884028Z"
    }
   },
   "cell_type": "code",
   "source": [
    "d = a >= b and b/64 == 64\n",
    "print(d)"
   ],
   "outputs": [
    {
     "name": "stdout",
     "output_type": "stream",
     "text": [
      "False\n"
     ]
    }
   ],
   "execution_count": 33
  },
  {
   "metadata": {
    "ExecuteTime": {
     "end_time": "2024-10-29T13:09:34.406033Z",
     "start_time": "2024-10-29T13:09:31.002084Z"
    }
   },
   "cell_type": "code",
   "source": [
    "e = input(\"Gib deine Lieblingsfarbe an:\")\n",
    "print(e)"
   ],
   "outputs": [
    {
     "name": "stdout",
     "output_type": "stream",
     "text": [
      "Lila\n"
     ]
    }
   ],
   "execution_count": 35
  },
  {
   "metadata": {
    "ExecuteTime": {
     "end_time": "2024-10-29T13:09:52.476613Z",
     "start_time": "2024-10-29T13:09:52.444378Z"
    }
   },
   "cell_type": "code",
   "source": [
    "f=4/3\n",
    "print(f)"
   ],
   "outputs": [
    {
     "name": "stdout",
     "output_type": "stream",
     "text": [
      "1.3333333333333333\n"
     ]
    }
   ],
   "execution_count": 36
  },
  {
   "metadata": {
    "ExecuteTime": {
     "end_time": "2024-10-29T13:25:32.032295Z",
     "start_time": "2024-10-29T13:25:32.015322Z"
    }
   },
   "cell_type": "code",
   "source": [
    "variables = [a, b, c, d, e, f]\n",
    "for var in variables:\n",
    "    print(type(var))"
   ],
   "outputs": [
    {
     "name": "stdout",
     "output_type": "stream",
     "text": [
      "<class 'int'>\n",
      "<class 'int'>\n",
      "<class 'bool'>\n",
      "<class 'bool'>\n",
      "<class 'str'>\n",
      "<class 'float'>\n"
     ]
    }
   ],
   "execution_count": 47
  },
  {
   "metadata": {},
   "cell_type": "code",
   "outputs": [],
   "execution_count": null,
   "source": ""
  }
 ],
 "metadata": {
  "kernelspec": {
   "display_name": "Python 3",
   "language": "python",
   "name": "python3"
  },
  "language_info": {
   "codemirror_mode": {
    "name": "ipython",
    "version": 2
   },
   "file_extension": ".py",
   "mimetype": "text/x-python",
   "name": "python",
   "nbconvert_exporter": "python",
   "pygments_lexer": "ipython2",
   "version": "2.7.6"
  }
 },
 "nbformat": 4,
 "nbformat_minor": 0
}
