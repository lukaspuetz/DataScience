{
 "cells": [
  {
   "cell_type": "markdown",
   "source": [
    "# Übung 4\n",
    "# Bedingungen und Kontrollstrukturen in Python"
   ],
   "metadata": {
    "collapsed": false
   }
  },
  {
   "cell_type": "markdown",
   "source": [
    "## Bedingungen in Python\n",
    "\n",
    "**If-else Bedingungen/Kontrollstrukturen - wichtig!!!**\n",
    "\n",
    "**If = wenn**\n",
    "&rarr; überprüft eine Bedingung\n",
    "&rarr; führt dann darunterliegenden Codeblock aus\n",
    "\n",
    "\n",
    "**Else= sonst**\n",
    "&rarr; wird ausgeführt, wenn die Bedingungen, die darüberliegen, nicht erfüllt sind\n",
    "\n",
    "**Else-If, was wir im folgenden als \"elif\" bezeichnen**\n",
    "&rarr; dient dazu, zusätzlich zur \"if\"-Anweisung mehrere Bedingungen zu überprüfen\n",
    "&rarr; während es nur **ein if** und **ein else** gibt, kann eine **unbegrenzte Anzahl** an **elif** genutzt werden"
   ],
   "metadata": {
    "collapsed": false
   }
  },
  {
   "cell_type": "code",
   "execution_count": null,
   "outputs": [],
   "source": [
    "# Beispiel für eine If-Else Kontrollstruktur\n",
    "a= 3\n",
    "\n",
    "if a == 2:\n",
    "    print(\"a is 2\")\n",
    "elif a == 3:\n",
    "    print(\"a is 3\")\n",
    "elif a == 4:\n",
    "    print(\"a is 4\")\n",
    "else:\n",
    "    print(\"a is not 2 or 3\")"
   ],
   "metadata": {
    "collapsed": false
   }
  },
  {
   "cell_type": "markdown",
   "source": [
    "### Zu Beachten beim Aufbau von If-Else Kontrollstrukturen:\n",
    "\n",
    "&rarr; Nach dem Schlüsselwort (if, else, elif) MUSS immer ein Leerzeichen gesetzt werden\n",
    "<br>\n",
    "&rarr; Nach der tatsächlichen Bedingung (z. B. a==2) folgt immer ein Doppelpunkt\n",
    "<br>\n",
    "&rarr; Die Codezeile unter der Bedingung sollte IMMER eingerückt sein, <br> um Python anzuzeigen, dass dieser Code nur dann ausgeführt wird, wenn die Bedingung erfüllt ist\n",
    "<br>\n",
    "&rarr; Der darin enthaltene Befehl wird nur einmal ausgeführt, wenn die Bedingung erfüllt ist"
   ],
   "metadata": {
    "collapsed": false
   }
  },
  {
   "cell_type": "markdown",
   "source": [
    "## Elif\n",
    "\n",
    "**Sequentielle Ausführung**\n",
    "\n",
    "In Python erfolgt eine **sequentielle Ausführung** des Codes\n",
    "&rarr; Code wird in der Reihenfolge ausgeführt, wie er in der Zelle erscheint\n",
    "<br>\n",
    "```Python\n",
    "print(\"Schritt 1\")   # Zuerst wird die erste Zeile verarbeitet\n",
    "print(\"Schritt 2\")   # Erst DANACH wird die zweite Zeile ausgeführt\n",
    "print(\"Schritt 3\")   # Und darauffolgend wird die nächste Zeile ausgeführt\n",
    "````\n",
    "<br>\n",
    "\n",
    "**Sequentielle Ausführung und if-elif-else**\n",
    "\n",
    "Wenn eine \"if\"-Bedingung **nicht erfüllt** ist, wird die erste \"elif\"-Bedingung überprüft\n",
    "&rarr; Erste \"elif\"-Bedingung **wahr** = Ausführung des **zugehörigen Codeblocks**\n",
    "&rarr; Erste \"elif\"-Bedingung **NICHT wahr**= **Überprüfung** der **nächsten \"elif\"-Bedingung** in der Reihe\n",
    "&rarr; **Alle** \"elif\"-Bedingungen\" **nicht erfüllt**= Ausführung des Codeblocks unter **else** <br>\n",
    "Dies ermöglicht die **schrittweise Prüfung von Bedingungen**, bis eine **wahre Bedingung** gefunden wird und der zugehörige Codeblock ausgeführt wird"
   ],
   "metadata": {
    "collapsed": false
   }
  },
  {
   "cell_type": "code",
   "execution_count": null,
   "outputs": [],
   "source": [
    "# Beispiel für eine if-elif-else Struktur\n",
    "alter= 18\n",
    "\n",
    "if alter < 18:\n",
    "    print(\"Du bist jünger als 18.\")\n",
    "\n",
    "elif alter == 18:\n",
    "    print(\"Du bist 18 Jahre alt.\")\n",
    "\n",
    "elif alter < 20:\n",
    "    print(\"Du bist jünger als 20\")\n",
    "\n",
    "elif alter == 20:\n",
    "     print(\"Du bist 20 Jahre alt.\")\n",
    "\n",
    "else:\n",
    "    print(\"Du bist älter als 20.\")"
   ],
   "metadata": {
    "collapsed": false
   }
  },
  {
   "cell_type": "markdown",
   "source": [
    "### Kombination von User Input und if/elif/else\n",
    "\n",
    "Wenn mit dem User Input **arithmetische Berechnungen** angestellt werden sollen,\n",
    "muss der Input durch **int()/float()** umgewandelt werden\n",
    "\n",
    "Soll er lediglich für **nicht-numerische Zwecke** oder für Vergleiche mit **anderen Zeichenketten** verwendet werden,\n",
    "findet keine Umwandlung statt"
   ],
   "metadata": {
    "collapsed": false
   }
  },
  {
   "cell_type": "code",
   "execution_count": null,
   "outputs": [],
   "source": [
    "# Beispiel: Umwandeln der Zahl\n",
    "DeinAlter= int(input(\"Wie alt bist du in Jahren?\"))\n",
    "\n",
    "if DeinAlter >= 18:\n",
    "    print(\"Du kannst jedes alkoholhaltige Getränk bestellen.\")\n",
    "\n",
    "elif DeinAlter >= 16:\n",
    "    print(\"Du darfst Wein oder Bier bestellen.\")\n",
    "\n",
    "else:\n",
    "    print(\"Du darfst keinen Alkohol bestellen!\")"
   ],
   "metadata": {
    "collapsed": false
   }
  },
  {
   "cell_type": "code",
   "execution_count": null,
   "outputs": [],
   "source": [
    "# Das eingegebene Alter kann durch arithmetische Berechnungen bearbeitet werden\n",
    "DeinAlter= DeinAlter + 2\n",
    "print(\"In 2 Jahren bist du\", DeinAlter, \"Jahre alt.\")"
   ],
   "metadata": {
    "collapsed": false
   }
  },
  {
   "cell_type": "code",
   "execution_count": null,
   "outputs": [],
   "source": [
    "# Beim Vergleich von Character String ist keine Umwandlung der Zahl nötig\n",
    "# Der Character String, mit dem der Input verglichen werden soll, wird in Anführungszeichen (\"\") angegeben\n",
    "\n",
    "user_input = input(\"Welche Farbe magst du am liebsten? \")  # Benutzereingabe als Character String\n",
    "\n",
    "if user_input == \"blau\":                                   # Character String in \"\"\n",
    "    print(\"Blau ist eine großartige Farbe!\")\n",
    "\n",
    "elif user_input == \"rot\":\n",
    "    print(\"Rot ist lebhaft und aufregend!\")\n",
    "\n",
    "else:\n",
    "    print(user_input, \"ist auch eine schöne Farbe!\")"
   ],
   "metadata": {
    "collapsed": false
   }
  },
  {
   "cell_type": "code",
   "execution_count": null,
   "outputs": [],
   "source": [
    "# Weiteres Beispiel für if/else und Character Strings\n",
    "Buchstabe= \"D\"\n",
    "\n",
    "if Buchstabe == \"A\" or Buchstabe == \"D\":\n",
    "    print (\"Richtiger Buchstabe\")\n",
    "else:\n",
    "    print (\"Falscher Buchstabe\")"
   ],
   "metadata": {
    "collapsed": false
   }
  },
  {
   "cell_type": "markdown",
   "source": [
    "# Aufgaben Übung 4:\n",
    "----------------\n",
    "\n",
    "1. Die \"if-elif-else\" Struktur (ca. 5-10 Minuten)\n",
    "Erstellen Sie eine Variable \"temperatur\", um die aktuelle Temperatur in Grad Celsius zu speichern.\n",
    "Durch die if-elif-else Struktur sollen unterschiedliche Nachrichten basierend auf der frei wählbaren Temperatur ausgegeben werden. <br>\n",
    "Die folgenden Fälle sollen berücksichtigt werden:\n",
    "&rarr; Wenn die Temperatur unter 0°C liegt, gib die Nachricht \"Es ist sehr kalt.\"\n",
    "&rarr; Wenn die Temperatur zwischen 0°C und 15°C liegt (einschließlich 0°C und 15°C), gib die Nachricht \"Es ist kühl draußen.\"\n",
    "&rarr; Wenn die Temperatur zwischen 16°C und 25°C liegt (einschließlich 16°C und 25°C), gib die Nachricht \"Das Wetter ist angenehm.\"\n",
    "&rarr; Wenn die Temperatur über 25°C liegt, gib die Nachricht \"Es ist warm draußen.\"\n",
    "<br>\n",
    "\n",
    "\n",
    "2. Die \"if-elif-else\" Struktur mit Input (ca. 5-10 Minuten)\n",
    "Nutzen Sie die input-Funktion, um den Benutzer nach seiner Größe in Zentimetern fragen und speichern Sie die Antwort in einer Variable ab. <br>\n",
    "Basierend auf der Antwort soll ausgegeben werden, ob der Benutzer groß genug ist, um eine Achterbahn zu fahren:\n",
    "&rarr;  Wenn der Benutzer 140 cm oder größer ist, soll ausgegeben werden: \"Du darfst die Achterbahn fahren!\"\n",
    "&rarr;  Wenn der Benutzer zwischen 120 cm und 139 cm groß ist, soll ausgegeben werden: \"Du darfst nur mit der Begleitung eines Erwachsenen Achterbahn fahren.\"\n",
    "&rarr;  Wenn der Benutzer kleiner als 120 cm ist, soll ausgegeben werden: \"Du darfst die Achterbahn leider nicht fahren!\"\n",
    "<br>\n",
    "\n",
    "3. Bitte kopieren Sie den Code von Aufgabe 2 in eine neue Code Zelle - nur in diesem Fall, soll die Größe der Person mit in dem Output angezeigt werden. Bitte achten Sie darauf, dass der Output schön formatiert ist. (ca. 3 Minuten)\n",
    "-----------------------------\n",
    "# Aufgaben in Präsenz\n",
    "Charakteristika der Digitalen Wirtschaft\n",
    "VUKA-Welt:\n",
    "- Volatilität (Schwankungen)\n",
    "- Unsicherheit (Ständige Veränderungen, nicht vorhersehbar)\n",
    "- Komplexität (Vernetzungsaspekt, großes Netzwerk kann komplex sein)\n",
    "- Ambiguität (Mehrdeutigkeit; Daten lassen multiple Interpretationen zu)\n",
    "\n",
    "## Aufgabe 1: \n",
    "_Angenommen wir betrachten ein fiktives Unternehmen namens \"FutureTech Solutions\", das sich auf die Entwicklung und den Vertrieb von innovativen Technologielösungen spezialisiert hat. Beschreiben Sie, wie Volatilität, Unsicherheit, Komplexität und Ambiguität in verschiedenen Aspekten des Geschäftsbetriebs auftreten können._\n",
    "- Volatilität:\n",
    "    - Marktvolatilität \n",
    "    - Technologische Volatilität\n",
    "- Unsicherheit:\n",
    "    - Regulatorische Unsicherheit \n",
    "    - Wirtschaftliche Unsicherheit\n",
    "- Komplexität\n",
    "    - Technologische Komplexität\n",
    "    - Lieferkettenkomplexität\n",
    "- Ambiguität \n",
    "    - Datenambiguität\n",
    "    - Kundenambiguität\n",
    "### Vier Typen der Integration\n",
    "- Separiert\n",
    "- Koordiniert\n",
    "- Dialogbasiert\n",
    "    - beide arbeiten Zusammen\n",
    "    - Unternehmensstrategie lässt sich auch von Data Science funktion ableiten\n",
    "- Holistisch\n",
    "    - Unternehmensstrategie Datengetrieben\n",
    "    - eng ineinander verwoben\n",
    "## Aufgabe 2\n",
    "### Fall 1\n",
    "_GreenTrend Retail AG ist ein Startup für nachhaltige Mode, das eng mit Datenwissenschaftlern zusammenarbeitet, um Produkte anzubieten, die auf tiefgehenden Analysen von Markttrends und Kundenpräferenzen basieren. Die Entscheidungsfindung in allen Bereichen, von Marketing bis Produktentwicklung, ist datengetrieben, um das Kundenerlebnis zu verbessern und das Sortiment entsprechend der gewonnenen Einsichten anzupassen. Die Unternehmensstrategie reagiert flexibel auf datenbasierte Erkenntnisse, um schnell auf sich ändernde Trends zu reagieren und die interne Zusammenarbeit zu stärken._\n",
    "\n",
    "**Lösung: holistische Integration**\n",
    "\n",
    "- Interdisziplinäre Zusammenarbeit (abteilungsübergreifend)\n",
    "- Datenzentrierte Entscheidungsfindung (datengetriebene Entscheidungen – UN-Strategie)\n",
    "- Adaptive Strategieänderungen\n",
    "### Fall 2\n",
    "_CodeCrafters GmbH ist ein Softwareunternehmen, das Wert auf Innovation und kundenorientierte Lösungen legt. Die Datenanalyseabteilung, spezialisiert auf Benutzerverhalten und Nutzererfahrung, ist effektiv, aber ihre Erkenntnisse beeinflussen die Unternehmensstrategie selten. Obwohl die Geschäftsführung Daten als wichtig erachtet, nutzen sie diese hauptsächlich für den täglichen Betrieb statt für strategische Entwicklung, was zu einer geringen Einbindung der Datenanalyse in die Gesamtziele des Unternehmens führt._\n",
    "\n",
    "**Lösung: separierte Integration**\n",
    "\n",
    "- Einfluss von Datenanalyse auf UN-Strategie ist sehr gering\n",
    "- Datenanalyse nicht auf UN-Strategie angepasst\n",
    "- Ausschließliche Nutzung für operativen Betrieb\n",
    "## Aufgabe 3\n",
    "_Ordnen Sie die folgenden Unternehmen anhand der Strategie-Taxonomie von Treacy ud Wiersema (1993) ein und nennen Sie den Hauptfokus der einzelnen Unternehmen (Prozessorientierung, Produktorientierung, Kundenorientierung):_\n",
    "- McDonalds (Fast-Food)\n",
    "    - Prozessorientierung (über +)\n",
    "    - Kundenorientierung (über)\n",
    "    - Produktorientierung (unter)\n",
    "- Samsung (Elektronikhersteller)\n",
    "    - Produktorientierung (über +)\n",
    "    - Prozessorientierung (über)\n",
    "    - Kundenorientierung (neutral)\n",
    "- Ritz-Carlton (Premium-Hotellerie)\n",
    "    - Kundenorientierung (über +)\n",
    "    - Produktorientierung (neutral)\n",
    "    - Prozessoptimierung (unter)\n",
    "## Aufgabe 4\n",
    "_Handelt es sich bei den folgenden Zielen um deskreptive (D), kausale (K) oder prädikative (P) Ziele?_\n",
    "- Andwendung von Clusteranalysen, um homogene Kundengruppen zu identifizieren. (D)\n",
    "- Vorhersage der Leistung von Bewerbern in einem bestimmten Job. (P)\n",
    "- Welche Auswirkungen hat eine Veränderung des Preises auf den Verkauf? (K)\n",
    "- Vorhersage der zukünftigen Anzahl von Abonennten basierend auf historischen Daten. (P)\n",
    "- Erstellung von Berichten, die aktuelle Geschäftszahlen und Leistungsindikatoren (KPIs) darstellen. (D)\n",
    "- Warum wechseln Kunden oder kaufen nicht mehr? (K)\n",
    "\n"
   ],
   "metadata": {
    "collapsed": false
   }
  },
  {
   "cell_type": "code",
   "source": [
    "##Aufgabe 1\n",
    "temperatur = -1\n",
    "if temperatur < 0:\n",
    "    print(\"Es ist sehr kalt\")\n",
    "\n",
    "elif temperatur < 15:\n",
    "    print(\"Es ist kühl kalt\")\n",
    "    \n",
    "elif temperatur < 25:\n",
    "    print(\"Das Wetter ist angenehm\")\n",
    "\n",
    "else :\n",
    "    print(\"Es ist warm draußen\")\n",
    "    "
   ],
   "metadata": {
    "collapsed": false,
    "ExecuteTime": {
     "end_time": "2024-11-04T13:25:52.957259Z",
     "start_time": "2024-11-04T13:25:52.914596Z"
    }
   },
   "outputs": [
    {
     "name": "stdout",
     "output_type": "stream",
     "text": [
      "Es ist sehr kalt\n"
     ]
    }
   ],
   "execution_count": 14
  },
  {
   "metadata": {},
   "cell_type": "markdown",
   "source": ""
  },
  {
   "metadata": {
    "ExecuteTime": {
     "end_time": "2024-11-04T13:36:22.479705Z",
     "start_time": "2024-11-04T13:36:19.964056Z"
    }
   },
   "cell_type": "code",
   "source": [
    "##Aufgabe 2\n",
    "größe = int(input(\"Wie groß bist du in cm?\"))\n",
    "if größe >= 140:\n",
    "    print(\"Du darfst die Achterbahn fahren!\")\n",
    "elif größe >= 120:\n",
    "    print (\"Du darfst nur in Begleitung eines Erwachsenen Achterbahn fahren!\")\n",
    "else:\n",
    "    print(\"Du darfst die Achterbahn leider nicht fahren!\")"
   ],
   "outputs": [
    {
     "name": "stdout",
     "output_type": "stream",
     "text": [
      "Du bist 144 cm groß. Du darfst die Achterbahn fahren!\n"
     ]
    }
   ],
   "execution_count": 26
  },
  {
   "metadata": {},
   "cell_type": "markdown",
   "source": ""
  },
  {
   "metadata": {
    "ExecuteTime": {
     "end_time": "2024-11-05T13:52:20.247103Z",
     "start_time": "2024-11-05T13:52:17.356866Z"
    }
   },
   "cell_type": "code",
   "source": [
    "## Aufgabe 3\n",
    "größe = int(input(\"Wie groß bist du in cm?\"))\n",
    "if größe >= 140:\n",
    "    print(\"Du bist\", größe,\"cm groß. Du darfst die Achterbahn fahren!\")\n",
    "elif größe >= 120:\n",
    "    print (\"Du bist\", größe,\"cm groß. Du darfst nur in Begleitung eines Erwachsenen Achterbahn fahren!\")\n",
    "else:\n",
    "    print(\"Du bist\", größe,\"cm groß, damit bist du\", 120-größe, \"cm zu klein. Du darfst die Achterbahn leider nicht fahren!\")"
   ],
   "outputs": [
    {
     "name": "stdout",
     "output_type": "stream",
     "text": [
      "Du bist 80 cm groß, damit bist du 40 cm zu klein. Du darfst die Achterbahn leider nicht fahren!\n"
     ]
    }
   ],
   "execution_count": 2
  },
  {
   "metadata": {},
   "cell_type": "code",
   "outputs": [],
   "execution_count": null,
   "source": ""
  }
 ],
 "metadata": {
  "kernelspec": {
   "display_name": "Python 3",
   "language": "python",
   "name": "python3"
  },
  "language_info": {
   "codemirror_mode": {
    "name": "ipython",
    "version": 2
   },
   "file_extension": ".py",
   "mimetype": "text/x-python",
   "name": "python",
   "nbconvert_exporter": "python",
   "pygments_lexer": "ipython2",
   "version": "2.7.6"
  }
 },
 "nbformat": 4,
 "nbformat_minor": 0
}
