{
 "cells": [
  {
   "cell_type": "markdown",
   "source": [
    "# Übung 5:\n",
    "# Umgang und Berechnungen mit Listen"
   ],
   "metadata": {
    "collapsed": false
   }
  },
  {
   "cell_type": "markdown",
   "source": [
    "## Listen in Python\n",
    "\n",
    "### &rarr; sind veränderbare Sammlungen von Objekten beliebiger Datentypen <br>\n",
    "### &rarr; können entweder aus Datensätzen gezogen werden oder selber erstellt werden <br>\n",
    "### &rarr; werden in Python mit [ ] erstellt <br>"
   ],
   "metadata": {
    "collapsed": false
   }
  },
  {
   "cell_type": "code",
   "source": [
    "from statistics import median\n",
    "\n",
    "# Liste mit verschiedenen Datentypen\n",
    "list1= [1, 1.5, \"Python\", True , False]\n",
    "print(list1)"
   ],
   "metadata": {
    "collapsed": false,
    "ExecuteTime": {
     "end_time": "2024-11-12T13:23:59.035307Z",
     "start_time": "2024-11-12T13:23:59.019234Z"
    }
   },
   "outputs": [
    {
     "name": "stdout",
     "output_type": "stream",
     "text": [
      "[1, 1.5, 'Python', True, False]\n"
     ]
    }
   ],
   "execution_count": 1
  },
  {
   "cell_type": "code",
   "source": [
    "# Listen können auch andere Listen beinhalten\n",
    "list2= [5, \"CSS\", True, False, list1]\n",
    "print(list2)"
   ],
   "metadata": {
    "collapsed": false,
    "ExecuteTime": {
     "end_time": "2024-11-12T13:24:04.360030Z",
     "start_time": "2024-11-12T13:24:04.353959Z"
    }
   },
   "outputs": [
    {
     "name": "stdout",
     "output_type": "stream",
     "text": [
      "[5, 'CSS', True, False, [1, 1.5, 'Python', True, False]]\n"
     ]
    }
   ],
   "execution_count": 2
  },
  {
   "cell_type": "code",
   "source": [
    "# Sortieren einer Liste mit .sort()\n",
    "list3= [5,65,10,15,60,20,55,25,30,35,40,45,50]\n",
    "list3.sort()\n",
    "print(list3)"
   ],
   "metadata": {
    "collapsed": false,
    "ExecuteTime": {
     "end_time": "2024-11-12T13:24:09.877374Z",
     "start_time": "2024-11-12T13:24:09.870138Z"
    }
   },
   "outputs": [
    {
     "name": "stdout",
     "output_type": "stream",
     "text": [
      "[5, 10, 15, 20, 25, 30, 35, 40, 45, 50, 55, 60, 65]\n"
     ]
    }
   ],
   "execution_count": 3
  },
  {
   "cell_type": "code",
   "source": [
    "# Logische Operatoren sind auch auf Listen anwendbar\n",
    "listx= [1,2,3]\n",
    "listy= [1,2,3]\n",
    "\n",
    "if listx == listy:\n",
    "    print(\"Die Listen sind identisch\")\n",
    "else:\n",
    "    print(\"Die Listen sind unterschiedlich\")"
   ],
   "metadata": {
    "collapsed": false,
    "ExecuteTime": {
     "end_time": "2024-11-12T13:24:34.833748Z",
     "start_time": "2024-11-12T13:24:34.821165Z"
    }
   },
   "outputs": [
    {
     "name": "stdout",
     "output_type": "stream",
     "text": [
      "Die Listen sind identisch\n"
     ]
    }
   ],
   "execution_count": 4
  },
  {
   "cell_type": "code",
   "execution_count": null,
   "outputs": [],
   "source": [
    "## Ermittlung der Länge einer Liste:\n",
    "### Die len()-Funktion\n",
    "### Für viele statistische Berechnungen ist die **Länge der Liste**, also das **n**, sehr relevant"
   ],
   "metadata": {
    "collapsed": false
   }
  },
  {
   "cell_type": "code",
   "source": [
    "# Länge einer Liste: len()-Funktion!\n",
    "list4= [1,2,3,4,5,6,7,8,9,10,11,12,13,14,15,16,17,18,19]\n",
    "print(len(list4))"
   ],
   "metadata": {
    "collapsed": false,
    "ExecuteTime": {
     "end_time": "2024-11-12T13:24:40.968637Z",
     "start_time": "2024-11-12T13:24:40.961858Z"
    }
   },
   "outputs": [
    {
     "name": "stdout",
     "output_type": "stream",
     "text": [
      "19\n"
     ]
    }
   ],
   "execution_count": 5
  },
  {
   "cell_type": "markdown",
   "source": [
    "## Ermittlung der Summe einer Liste:\n",
    "### Die sum()-Funktion\n",
    "### Berechnung der Gesamtsumme aller Elemente in einer Liste"
   ],
   "metadata": {
    "collapsed": false
   }
  },
  {
   "cell_type": "code",
   "source": [
    "# Ermittlung der Summe einer Liste: sum()-Funktion\n",
    "print(sum(list4))"
   ],
   "metadata": {
    "collapsed": false,
    "ExecuteTime": {
     "end_time": "2024-11-12T13:24:52.503132Z",
     "start_time": "2024-11-12T13:24:52.497560Z"
    }
   },
   "outputs": [
    {
     "name": "stdout",
     "output_type": "stream",
     "text": [
      "190\n"
     ]
    }
   ],
   "execution_count": 6
  },
  {
   "cell_type": "markdown",
   "source": [
    "## Funktionen und Bedingungen\n",
    "### Listen können Funktionen oder Bedingungen berücksichtigen, die angewendet oder erfüllt werden sollen"
   ],
   "metadata": {
    "collapsed": false
   }
  },
  {
   "cell_type": "markdown",
   "source": [
    "## Berücksichtigung von Funktionen:\n",
    "### Hier wird eine bestimmte Funktion auf jedes Element der Liste angewendet"
   ],
   "metadata": {
    "collapsed": false
   }
  },
  {
   "cell_type": "code",
   "source": [
    "# Hier wird für jedes Element im Bereich von 0 bis 10 das Quadrat der Zahl erstellt und direkt in der Liste gespeichert\n",
    "# Die Verwendung einer For-Loop wird später erklärt\n",
    "list5= [1,2,3,4,5,6,7,8,9,10]\n",
    "list5sq= [x**2 for x in list5]\n",
    "print(list5)\n",
    "print(list5sq)"
   ],
   "metadata": {
    "collapsed": false,
    "ExecuteTime": {
     "end_time": "2024-11-12T13:25:07.976076Z",
     "start_time": "2024-11-12T13:25:07.964958Z"
    }
   },
   "outputs": [
    {
     "name": "stdout",
     "output_type": "stream",
     "text": [
      "[1, 2, 3, 4, 5, 6, 7, 8, 9, 10]\n",
      "[1, 4, 9, 16, 25, 36, 49, 64, 81, 100]\n"
     ]
    }
   ],
   "execution_count": 7
  },
  {
   "cell_type": "markdown",
   "source": [
    "## Berücksichtigung von Bedingungen:\n",
    "### Hier werden nur Elemente in die Liste aufgenommen, die unsere Bedingung erfüllen"
   ],
   "metadata": {
    "collapsed": false
   }
  },
  {
   "cell_type": "code",
   "source": [
    "# Hier filtern wir gerade Zahlen aus der Ursprungsliste und fügen sie in eine neue Liste\n",
    "list6= [1, 2, 3, 4, 5, 6, 7, 8, 9, 10]\n",
    "geradelist6= [x for x in list6 if x % 2 == 0]\n",
    "print(geradelist6)"
   ],
   "metadata": {
    "collapsed": false,
    "ExecuteTime": {
     "end_time": "2024-11-12T13:25:38.826398Z",
     "start_time": "2024-11-12T13:25:38.809631Z"
    }
   },
   "outputs": [
    {
     "name": "stdout",
     "output_type": "stream",
     "text": [
      "[2, 4, 6, 8, 10]\n"
     ]
    }
   ],
   "execution_count": 8
  },
  {
   "cell_type": "markdown",
   "source": [
    "## Index bei Listen:\n",
    "### Oft sind nur bestimmte Elemente in einer Liste relevant. Daher wird der Index verwendet, um einzelne Elemente aufzurufen, gemäß der typischen Python-Syntax <br>\n",
    "### Um ein bestimmtes Element einer Liste auszugeben, verwenden wir eckige Klammern [] und setzen die gewünschte Position ein <br>\n",
    "### Achtung: Python zählt ab Wert 0! Das erste Element trägt demnach den Index 0 <br>"
   ],
   "metadata": {
    "collapsed": false
   }
  },
  {
   "cell_type": "code",
   "execution_count": null,
   "outputs": [],
   "source": [
    "# Aufrufen eines bestimmten Elements in einer Liste\n",
    "list7= [\"Germany\", \"Austria\", \"Poland\", \"Australia\", \"Japan\"]\n",
    "\n",
    "print(list7[0])                        #[0] da uns die ERSTE Stelle der Liste interessiert\n",
    "print(list7[0], list7[3])              #Hier interessieren wir uns für das erste und das vierte Element"
   ],
   "metadata": {
    "collapsed": false
   }
  },
  {
   "cell_type": "markdown",
   "source": [
    "## Ersetzen einzelner Elemente in Listen:\n",
    "### In Listen können einzelne Elemente auch durch andere Werte ersetzt werden, dazu verwenden wir die eckige Klammer: [Gewünschtes Element]"
   ],
   "metadata": {
    "collapsed": false
   }
  },
  {
   "cell_type": "code",
   "execution_count": null,
   "outputs": [],
   "source": [
    "# Ersetzung eines Elements\n",
    "list8= [5,10,15,16,25,30,35] #Die Zahl 16 passt nicht in unsere Zahlenreihe, daher wollen wir sie ersetzen\n",
    "list8[3]= 20                 #Da 16 an Position 3 liegt, wird sie mit der gewünschten Zahl 20 ersetzt\n",
    "print(list8)"
   ],
   "metadata": {
    "collapsed": false
   }
  },
  {
   "cell_type": "markdown",
   "source": [
    "## Hinzufügen von Elementen in Listen **ohne** Berücksichtigung der Position in der Liste:\n",
    "### Nutzung von .append()\n",
    "### Achtung:  Mit .append() kann immer nur **ein einzelnes** Element hinzugefügt werden"
   ],
   "metadata": {
    "collapsed": false
   }
  },
  {
   "cell_type": "code",
   "execution_count": null,
   "outputs": [],
   "source": [
    "# Hinzufügen von String Elementen ans Ende der Liste durch .append()\n",
    "list9= [\"Germany\", \"Austria\", \"Poland\", \"Australia\", \"Japan\"]\n",
    "list9.append(\"China\")\n",
    "print(list9)"
   ],
   "metadata": {
    "collapsed": false
   }
  },
  {
   "cell_type": "code",
   "execution_count": null,
   "outputs": [],
   "source": [
    "# Hinzufügen von Integer Elementen ans Ende der Liste durch .append()\n",
    "list10= [1, 2, 3, 4, 5, 6, 7, 8, 9, 10, 11, 12, 13, 14, 15, 16, 17, 18, 19]\n",
    "list10.append(20)\n",
    "print(list10)"
   ],
   "metadata": {
    "collapsed": false
   }
  },
  {
   "cell_type": "markdown",
   "source": [
    "## Hinzufügen von Elementen in Listen **MIT** Berücksichtigung der Position in der Liste:\n",
    "### Nutzung von .insert()\n",
    "### Im Vergleich zu .append() kann hier eine **bestimmte Stelle** ausgewählt werden, an der das Element eingefügt werden soll\n"
   ],
   "metadata": {
    "collapsed": false
   }
  },
  {
   "cell_type": "code",
   "execution_count": null,
   "outputs": [],
   "source": [
    "# Hinzufügen von String Elementen an einer bestimmten Stelle durch .insert()\n",
    "list11= [\"Germany\", \"Austria\", \"Poland\", \"Australia\", \"Japan\"]\n",
    "list11.insert(3,\"China\")                  #Hier wird an der Stelle 4 mit dem Index 3 \"China\" hinzugefügt\n",
    "print(list11)"
   ],
   "metadata": {
    "collapsed": false
   }
  },
  {
   "cell_type": "code",
   "execution_count": null,
   "outputs": [],
   "source": [
    "# Hinzufügen von Integer Elementen an einer bestimmten Stelle durch .insert()\n",
    "list12= [1,2,3,4,5,6,7,8,9,10,11,12,13,14,15,16,17,18,19]\n",
    "list12.insert(0, -5)                           #Hier wird an der Stelle 1 mit dem Index 0 die Zahl -5 hinzugefügt\n",
    "print(list12)"
   ],
   "metadata": {
    "collapsed": false
   }
  },
  {
   "cell_type": "markdown",
   "source": [
    "## Entfernen einzelner Elemente aus Listen mit del:\n",
    "### Die del-Funktion greift auf einen bestimmten Index in der Liste zu und löscht dann dieses Element\n"
   ],
   "metadata": {
    "collapsed": false
   }
  },
  {
   "cell_type": "code",
   "execution_count": null,
   "outputs": [],
   "source": [
    "# Beispielliste, die nur Länder beinhalten soll\n",
    "list13= [\"Germany\", \"Europe\", \"Austria\", \"Poland\", \"Australia\", \"Japan\"]\n",
    "del list13[1]  #Entfernung des Elementes an der Stelle 2 mit dem Index 1\n",
    "print(list13)\n",
    "\n",
    "del list13[1]  #Hier wird nun das Element angesteuert, das nach der Neusortierung den entsprechenden Index 1 hat\n",
    "print(list13)"
   ],
   "metadata": {
    "collapsed": false
   }
  },
  {
   "cell_type": "markdown",
   "source": [
    "## Entfernen von einzelnen Elementen mit .remove():\n",
    " ###  Wenn eine Liste sehr lang ist, ist es nicht immer sinnvoll mit \"del\" zu arbeiten, und Elemente anhand ihres Index zu entfernen <br>\n",
    " ### Durch die Verwendung von .remove() können wir problemlos nach einem bestimmten Element suchen und es entfernen, jedoch funktioniert dies nur, wenn das Element nur einmal in der Liste vorkommt"
   ],
   "metadata": {
    "collapsed": false
   }
  },
  {
   "cell_type": "code",
   "execution_count": null,
   "outputs": [],
   "source": [
    "# Entfernen eines Elements ohne den Index zu durch .remove()\n",
    "list13= [\"Germany\", \"Europe\", \"Austria\", \"Poland\", \"Australia\", \"Japan\"]\n",
    "list13.remove(\"Germany\")\n",
    "print(list13)"
   ],
   "metadata": {
    "collapsed": false
   }
  },
  {
   "cell_type": "code",
   "execution_count": null,
   "outputs": [],
   "source": [
    "# Beispielliste aus Ländern und Kontinenten\n",
    "# Ziel: Herausfiltern und löschen der Kontinente\n",
    "\n",
    "list14= [\"Germany\", \"Europe\", \"Austria\", \"Poland\", \"Australia\", \"Japan\",\n",
    "    \"Canada\", \"Brazil\", \"India\", \"South Africa\", \"Mexico\", \"Italy\",\n",
    "    \"China\", \"Russia\", \"United Kingdom\", \"Spain\", \"France\", \"Egypt\",\n",
    "    \"Argentina\", \"Thailand\", \"Sweden\", \"Norway\", \"Finland\", \"Denmark\",\n",
    "    \"Ireland\", \"Netherlands\", \"Belgium\", \"Africa\", \"Switzerland\", \"Turkey\", \"Greece\",\n",
    "    \"Portugal\", \"Czech Republic\", \"Hungary\", \"South Korea\", \"Vietnam\",\n",
    "    \"Malaysia\", \"Singapore\", \"Indonesia\", \"New Zealand\", \"Cuba\",\n",
    "    \"Chile\", \"Peru\", \"Colombia\", \"Venezuela\", \"Bangladesh\", \"Pakistan\",\n",
    "    \"Nigeria\", \"Kenya\", \"Morocco\", \"North America\", \"Algeria\", \"Tunisia\", \"Saudi Arabia\",\n",
    "    \"United Arab Emirates\", \"Qatar\", \"Israel\", \"United States of America\", \"Asia\", \"Antarctica\"]\n",
    "\n",
    "\n",
    "# Überprüfen, ob ein Kontinent in der Liste vorkommt durch \"in\":\n",
    "kontinent= input(\"Bitte geben Sie einzeln die Kontinente ein und überprüfen, ob diese in der Liste sind:\")\n",
    "\n",
    "if kontinent in list14:\n",
    "    print(\"Der Kontinent\", kontinent,  \"ist in der Liste enthalten\")\n",
    "else:\n",
    "    print(\"Der Kontinent ist nicht in der Liste enthalten\")"
   ],
   "metadata": {
    "collapsed": false
   }
  },
  {
   "cell_type": "markdown",
   "source": [
    "## Vorgehen:\n",
    "### 1. Wir können zuerst prüfen, ob der Kontinent vorhanden ist, und ihn dann im nächsten Schritt mit .remove() entfernen\n",
    "\n",
    "### 2. Wir können den Kontinent direkt beim Überprüfen aus der Liste löschen\n",
    "  ###  &rarr; Dies funktioniert jedoch nur, wenn der Kontinent nur einmal in der Liste vorkommt"
   ],
   "metadata": {
    "collapsed": false
   }
  },
  {
   "cell_type": "code",
   "execution_count": null,
   "outputs": [],
   "source": [
    "# Überprüfung und Löschung\n",
    "continent= input(\"Bitte geben Sie einzeln die Kontinente ein und überprüfen, ob diese in der Liste sind:\")\n",
    "\n",
    "if continent in list14:\n",
    "    list14.remove(continent)\n",
    "    print(\"Der Kontinent\", continent,  \"war in der Liste enthalten und wurde gelöscht.\")\n",
    "else:\n",
    "    print(\"Der Kontinent ist nicht in der Liste enthalten, damit bleibt die Liste unverändert.\")"
   ],
   "metadata": {
    "collapsed": false
   }
  },
  {
   "cell_type": "code",
   "execution_count": null,
   "outputs": [],
   "source": [
    "# Ausgabe der veränderten Liste\n",
    "print(list14)"
   ],
   "metadata": {
    "collapsed": false
   }
  },
  {
   "cell_type": "markdown",
   "source": [
    "## Was ist NumPy?\n",
    "\n",
    "### &rarr; Numpy ist eines der grundlegenden Pakete für wissenschaftliche Analysen oder Datenanalysen\n",
    "### &rarr; Das Paket hat eine Sammlung an Funktionen, um effizient mit numerischen Daten zu arbeiten\n",
    "\n",
    "### &rarr; Es muss einmal pro Notebook-Sitzung importiert werden, aber nicht erneut aktiviert werden, solange das Notebook offen ist\n",
    "### &rarr; Wenn das Fenster geschlossen und wieder geöffnet wird, muss NumPy erneut importiert werden"
   ],
   "metadata": {
    "collapsed": false
   }
  },
  {
   "cell_type": "markdown",
   "source": [
    "## Statistische Funktionen von Numpy\n",
    "### Die Berechnung erfolgt, indem das Kürzel des Pakets \"np\" und die gewünschte Funktion angegeben werden\n",
    "<br>\n",
    "\n",
    "| Berechnung        | Methode         | Funktion                      |\n",
    "|-------------------|-----------------|-------------------------------|\n",
    "| Minimum           | .min()          | **np.min(** Variable **)**    |\n",
    "| Maximum           | .max()          | **np.max(** Variable **)**    |\n",
    "| Mittelwert        | .mean()         | **np.mean(** Variable **)**   |\n",
    "| Median            | .median()       | **np.median(** Variable **)** |\n",
    "| Varianz           | .var()          | **np.var(** Variable **)**    |\n",
    "| Standardabweichung| .std()          | **np.std(** Variable **)**    |\n"
   ],
   "metadata": {
    "collapsed": false
   }
  },
  {
   "cell_type": "code",
   "source": [
    "# Import des Packages NumPy\n",
    "import numpy as np"
   ],
   "metadata": {
    "collapsed": false,
    "ExecuteTime": {
     "end_time": "2024-11-12T14:17:25.491701Z",
     "start_time": "2024-11-12T14:17:25.388411Z"
    }
   },
   "outputs": [
    {
     "ename": "ModuleNotFoundError",
     "evalue": "No module named 'numpy'",
     "output_type": "error",
     "traceback": [
      "\u001B[0;31m---------------------------------------------------------------------------\u001B[0m",
      "\u001B[0;31mModuleNotFoundError\u001B[0m                       Traceback (most recent call last)",
      "Cell \u001B[0;32mIn[4], line 2\u001B[0m\n\u001B[1;32m      1\u001B[0m \u001B[38;5;66;03m# Import des Packages NumPy\u001B[39;00m\n\u001B[0;32m----> 2\u001B[0m \u001B[38;5;28;01mimport\u001B[39;00m \u001B[38;5;21;01mnumpy\u001B[39;00m \u001B[38;5;28;01mas\u001B[39;00m \u001B[38;5;21;01mnp\u001B[39;00m\n",
      "\u001B[0;31mModuleNotFoundError\u001B[0m: No module named 'numpy'"
     ]
    }
   ],
   "execution_count": 4
  },
  {
   "cell_type": "code",
   "execution_count": null,
   "outputs": [],
   "source": [
    "# Berechnung des Minimums der Werte einer Liste\n",
    "list11= [5,55,10,45,20,25,30,35,40,50]\n",
    "list11.sort()\n",
    "print(list11)\n",
    "\n",
    "print(\"Das Minimum der Liste ist:\", np.min(list11))"
   ],
   "metadata": {
    "collapsed": false
   }
  },
  {
   "cell_type": "code",
   "execution_count": null,
   "outputs": [],
   "source": [
    "# Berechnung des Maximums der Werte einer Liste\n",
    "list11= [5,55,10,45,20,25,30,35,40,50]\n",
    "print(\"Das Maximum der Liste ist:\",np.max(list11))"
   ],
   "metadata": {
    "collapsed": false
   }
  },
  {
   "cell_type": "code",
   "execution_count": null,
   "outputs": [],
   "source": [
    "# Berechnung des Mittelwerts der Werte einer Liste\n",
    "list11= [5,10,15,20,25,30,35,40,45,50]\n",
    "print(\"Das ist der Mittelwert der Liste:\",np.mean(list11))"
   ],
   "metadata": {
    "collapsed": false
   }
  },
  {
   "cell_type": "code",
   "execution_count": null,
   "outputs": [],
   "source": [
    "# Berechnung des Median der Werte einer Liste\n",
    "list11= [0,5,10,15,20,25,30,35,40,45,50]\n",
    "print(\"Das ist der Median der Liste:\",np.median(list11))"
   ],
   "metadata": {
    "collapsed": false
   }
  },
  {
   "cell_type": "code",
   "execution_count": null,
   "outputs": [],
   "source": [
    "# Berechnung der Varianz der Werte einer Liste\n",
    "list11= [5,10,15,20,25,30,35,40,45,50]\n",
    "print(\"Das ist die Varianz der Liste:\",np.var(list11))"
   ],
   "metadata": {
    "collapsed": false
   }
  },
  {
   "cell_type": "code",
   "execution_count": null,
   "outputs": [],
   "source": [
    "# Berechnung der Standardabweichung der Werte einer Liste\n",
    "list11= [5,10,15,20,25,30,35,40,45,50]\n",
    "print(\"Das ist die Standardabweichung der Liste:\",np.std(list11))"
   ],
   "metadata": {
    "collapsed": false
   }
  },
  {
   "cell_type": "markdown",
   "source": [
    "# Aufgaben in Präsenz\n",
    "## Aufgabe 1\n",
    "_Stellen Sie sich vor Sie arbeiten bei Adidas. Welche Daten muss Adidas verarbeiten, um erfolgreich zu sein?\n",
    "Überlegen Sie sich 3-4 Beispiele wie Daten in den verschiedenen Geschäftsbereichen genutzt werden können?_\n",
    "- Logistik (effiziente Lieferwege)\n",
    "- Produktion (kosteneffiziente und quantitativ effektive Produktion)\n",
    "- Vertrieb (Target Gruppen finden)\n",
    "- Marketing (Kunden bedürfnisse ansprechen und decken)\n",
    "- Finanzdaten (Profitabilität, Bonität, Prognosen)\n",
    "- Personaldaten (Gehalt, Zufriedenheit, etc.)\n",
    "## Aufgabe 2\n",
    "_Die meisten Cloud-Lösungen stammen aus den USA. Stellen Sie sich vor, Sie arbeiten für Adidas, die ihre Daten bisher bei einem amerikanischen Unternehmen speichern. Analysieren Sie Vor- und Nachteile eines Wechsels zu europäischen Cloud-Lösungen für ein Unternehmen_\n",
    "### Vorteile\n",
    "- Datenschutz Konformität\n",
    "- Nähe zu Rechenzentren\n",
    "- Stärken der eigenen Wirtschaft\n",
    "- unabhängiger von politischen Geschehnissen\n",
    "### Nachteile\n",
    "- weniger Innovation\n",
    "- weniger Kapital\n",
    "- höhere Preise für Cloud-Lösungen\n",
    "- geringere Skalierbarkeit und Flexibilität\n",
    "# Aufgaben Übung 5:\n",
    "-----------------------------\n",
    "1. Listen bearbeiten (ca. 5-10 Minuten) <br> a) Erstellen Sie eine Liste mit den Tagen einer Arbeitswoche (Montag - Freitag).\n",
    "b) Ergänzen Sie die Tage Samstag und Sonntag in die Liste. <br> c) Entfernen Sie den Freitag aus der Liste. <br> d) Ersetzen Sie den Montag durch \"Arbeitstag\". <br>\n",
    "\n",
    "\n",
    "<br>\n",
    "\n",
    "2. Mit Listen arbeiten (ca. 20 Minuten)  <br> Stellen Sie sich vor, Sie sind Lehrende/r in der Klasse (4a) und korrigieren eine Klausur, bei der man 100 Punkte holen konnte, hier ist die Punkteliste der Schüler:innen:\n",
    "Punkte_4a = [92, 87, 55, 43, 78, 65, 89, 83, 99, 100, 45, 67, 90, 48, 76]\n",
    " <br> <br> a) Sortieren Sie die Liste von unten nach oben <br> <br> b) Arbeiten Sie mit If-Else Bedingungen: Wenn ein/e Lernende/r 100 Punkte erreicht hat, soll das auch geprinted werden, ansonsten soll geprinted werden: Es hat keiner die volle Punktzahl erreicht. <br> <br> c) Überprüfen Sie mit einer If-Else Bedingung, ob das Minimum der Punkte über 40 liegt, und wenn ja, soll geprinted werden \"Alle haben bestanden\". Wenn nicht, \"es sind Schüler:innen durchgefallen\". <br> <br> <br> Nun sollen die Ergebnisse mit denen aus der anderen Klasse (4b) verglichen werden.\n",
    "Punkte_4b = [82, 95, 60, 50, 71, 78, 80, 85, 91, 94, 52, 72, 88, 65, 77] <br> <br> d) Überprüfen Sie, ob der Mittelwert der Klasse 4a) höher oder niedriger ist als der Mittelwert der Klasse 4b) <br> <br> e) Überprüfen Sie, ob Klasse 4a oder 4b eine höhere Gesamtpunktzahl (in Summe) hat. <br> <br> f) Vergleichen Sie abschließend, ob die Varianz in Klasse 4a) oder 4b höher ist. (Mit einer If-Else Bedingung)\n",
    "\n",
    "-----------------------------\n"
   ],
   "metadata": {
    "collapsed": false
   }
  },
  {
   "cell_type": "code",
   "source": [
    "# Aufgabe 1\n",
    "# a)\n",
    "Woche = [\"Montag\", \"Dienstag\", \"Mittwoch\", \"Donnerstag\", \"Freitag\"]\n",
    "print(Woche)\n",
    "# b)\n",
    "Woche.append(\"Samstag\")\n",
    "Woche.append(\"Sonntag\") \n",
    "print(Woche)\n",
    "# c)\n",
    "Woche.remove(\"Freitag\")\n",
    "print(Woche)\n",
    "# d)\n",
    "Woche[0] = \"Arbeitstag\"\n",
    "print(Woche)"
   ],
   "metadata": {
    "collapsed": false,
    "ExecuteTime": {
     "end_time": "2024-11-12T14:28:45.338668Z",
     "start_time": "2024-11-12T14:28:45.324021Z"
    }
   },
   "outputs": [
    {
     "name": "stdout",
     "output_type": "stream",
     "text": [
      "['Montag', 'Dienstag', 'Mittwoch', 'Donnerstag', 'Freitag']\n",
      "['Montag', 'Dienstag', 'Mittwoch', 'Donnerstag', 'Freitag', 'Samstag', 'Sonntag']\n",
      "['Montag', 'Dienstag', 'Mittwoch', 'Donnerstag', 'Samstag', 'Sonntag']\n",
      "['Arbeitstag', 'Dienstag', 'Mittwoch', 'Donnerstag', 'Samstag', 'Sonntag']\n"
     ]
    }
   ],
   "execution_count": 9
  },
  {
   "metadata": {
    "ExecuteTime": {
     "end_time": "2024-11-12T14:43:23.840606Z",
     "start_time": "2024-11-12T14:43:23.803056Z"
    }
   },
   "cell_type": "code",
   "source": [
    "import numpy as np\n",
    "# Aufgabe 2\n",
    "Punkte_4a = [92, 87, 55, 43, 78, 65, 89, 83, 99, 100, 45, 67, 90, 48, 76]\n",
    "Punkte_4b = [82, 95, 60, 50, 71, 78, 80, 85, 91, 94, 52, 72, 88, 65, 77]\n",
    "# a)\n",
    "print(\"Antwort a:\")\n",
    "Punkte_4a.sort()\n",
    "print(Punkte_4a)\n",
    "# b)\n",
    "print(\"Antwort b:\")\n",
    "if 100 in Punkte_4a:\n",
    "    print(\"Es hat jemand die volle Punktzahl erreicht\")\n",
    "else:\n",
    "    print(\"Es hat niemand die volle Punktzahl erreicht\")\n",
    "# c)\n",
    "print(\"Antwort c:\")\n",
    "if min(Punkte_4a)>40:\n",
    "    print(\"Alle haben bestanden.\")\n",
    "else:\n",
    "    print(\"Es sind Schüler durchgefallen\")\n",
    "# d)\n",
    "print(\"Antwort d:\")\n",
    "if np.mean(Punkte_4a) > np.mean(Punkte_4b):\n",
    "    print(\"Mean 4a > Mean 4b\")\n",
    "elif np.mean(Punkte_4a) == np.mean(Punkte_4b):\n",
    "    print(\"Mean 4a = Mean 4b\")\n",
    "else:\n",
    "    print(\"Mean 4a < Mean 4b\")\n",
    "# e)\n",
    "print(\"Antwort e:\")\n",
    "if sum(Punkte_4a) > sum(Punkte_4b):\n",
    "    print(\"Sum 4a > Sum 4b\")\n",
    "elif sum(Punkte_4a) == sum(Punkte_4b):\n",
    "    print(\"Sum 4a = Sum 4b\")\n",
    "else:\n",
    "    print(\"Sum 4a < Sum 4b\")\n",
    "# f)\n",
    "print(\"Antwort f:\")\n",
    "if np.var(Punkte_4a) > np.var(Punkte_4b):\n",
    "    print(\"Die Varianz in Klasse 4a ist höher.\")\n",
    "elif np.var(Punkte_4a) == np.var(Punkte_4b):\n",
    "    print(\"Die Varianz in beiden Klassen ist gleich\")\n",
    "else:\n",
    "    print(\"Die Varianz in Klasse 4b ist höher oder gleich.\")"
   ],
   "outputs": [
    {
     "name": "stdout",
     "output_type": "stream",
     "text": [
      "Antwort a:\n",
      "[43, 45, 48, 55, 65, 67, 76, 78, 83, 87, 89, 90, 92, 99, 100]\n",
      "Antwort b:\n",
      "Es hat jemand die volle Punktzahl erreicht\n",
      "Antwort c:\n",
      "Alle haben bestanden.\n",
      "Antwort d:\n",
      "Mean 4a < Mean 4b\n",
      "Antwort e:\n",
      "Sum 4a < Sum 4b\n",
      "Antwort f:\n",
      "Die Varianz in Klasse 4a ist höher.\n"
     ]
    }
   ],
   "execution_count": 22
  }
 ],
 "metadata": {
  "kernelspec": {
   "display_name": "Python 3",
   "language": "python",
   "name": "python3"
  },
  "language_info": {
   "codemirror_mode": {
    "name": "ipython",
    "version": 2
   },
   "file_extension": ".py",
   "mimetype": "text/x-python",
   "name": "python",
   "nbconvert_exporter": "python",
   "pygments_lexer": "ipython2",
   "version": "2.7.6"
  }
 },
 "nbformat": 4,
 "nbformat_minor": 0
}
